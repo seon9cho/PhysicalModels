{
 "cells": [
  {
   "cell_type": "code",
   "execution_count": 85,
   "metadata": {},
   "outputs": [],
   "source": [
    "import numpy as np\n",
    "from scipy.optimize import root\n",
    "from scipy.linalg import solve_continuous_are\n",
    "from scipy.integrate import odeint\n",
    "from matplotlib import pyplot as plt"
   ]
  },
  {
   "cell_type": "markdown",
   "metadata": {},
   "source": [
    "## Problem 1.\n",
    "Write a function that returns the matrices $A$, $B$, $Q$, and $R$ given above. Let $g = 9.8 m/s^2$."
   ]
  },
  {
   "cell_type": "code",
   "execution_count": 4,
   "metadata": {},
   "outputs": [],
   "source": [
    "def linearized_init(M, m, l, q1, q2, q3, q4, r):\n",
    "    '''\n",
    "    Parameters:\n",
    "    5\n",
    "    ----------\n",
    "    M, m: floats\n",
    "          masses of the rickshaw and the present\n",
    "    l : float\n",
    "        length of the rod\n",
    "    q1, q2, q3, q4, r : floats\n",
    "                        relative weights of the position and velocity of the rickshaw,\n",
    "                        the angular displacement theta and the change in theta, and \n",
    "                        the control\n",
    "    Return\n",
    "    -------\n",
    "    A : ndarray of shape (4,4)\n",
    "    B : ndarray of shape (4,1)\n",
    "    Q : ndarray of shape (4,4)\n",
    "    R : ndarray of shape (1,1)\n",
    "    '''\n",
    "    g = 9.8\n",
    "    A = np.array([[0, 1, 0, 0],\n",
    "                  [0, 0, m*g/M, 0],\n",
    "                  [0, 0, 0, 1],\n",
    "                  [0, 0, (g/(M*l))*(M + m), 0]])\n",
    "    B = np.array([0, 1/M, 0, 1/(M*l)])\n",
    "    Q = np.diag([q1, q2, q3, q4])\n",
    "    R = np.array([r])\n",
    "    return A, B, Q, R"
   ]
  },
  {
   "cell_type": "code",
   "execution_count": 5,
   "metadata": {},
   "outputs": [
    {
     "data": {
      "text/plain": [
       "(array([[ 0. ,  1. ,  0. ,  0. ],\n",
       "        [ 0. ,  0. ,  9.8,  0. ],\n",
       "        [ 0. ,  0. ,  0. ,  1. ],\n",
       "        [ 0. ,  0. , 19.6,  0. ]]),\n",
       " array([0., 1., 0., 1.]),\n",
       " array([[1, 0, 0, 0],\n",
       "        [0, 1, 0, 0],\n",
       "        [0, 0, 1, 0],\n",
       "        [0, 0, 0, 1]]),\n",
       " array([1]))"
      ]
     },
     "execution_count": 5,
     "metadata": {},
     "output_type": "execute_result"
    }
   ],
   "source": [
    "linearized_init(1, 1, 1, 1, 1, 1, 1, 1)"
   ]
  },
  {
   "cell_type": "markdown",
   "metadata": {},
   "source": [
    "## Problem 2.\n",
    "Write the following function to find the matrix P. Use scipy.optimize.root.\n",
    "Since root takes in a vector and not a matrix, you will have to reshape the matrix P before\n",
    "passing it in and after getting your result, using np.reshape(16) and np.reshape((4,4))."
   ]
  },
  {
   "cell_type": "code",
   "execution_count": 41,
   "metadata": {},
   "outputs": [],
   "source": [
    "def find_P(A, B, Q, R):\n",
    "    '''\n",
    "    Parameters:\n",
    "    ----------\n",
    "    A, Q : ndarrays of shape (4,4)\n",
    "    B : ndarray of shape (4,1)\n",
    "    R : ndarray of shape (1,1)\n",
    "    Returns\n",
    "    -------\n",
    "    P : the matrix solution of the Riccati equation\n",
    "    '''\n",
    "    r = R[0]\n",
    "    def _P(P):\n",
    "        P = P.reshape((4,4))\n",
    "        out = P@A + A.T@P + Q - (1/r)*P@np.outer(B,B)@P\n",
    "        return out.flatten()\n",
    "    sol = root(_P, np.ones(16))['x']\n",
    "    return sol.reshape((4,4))\n",
    "    "
   ]
  },
  {
   "cell_type": "markdown",
   "metadata": {},
   "source": [
    "Using the values $M = 23$, $m = 5$, $l = 4$, $q_1 = q_2 = q_3 = q_4 = 1$, $r = 10$, compute the eigenvalues of $A − BR^{−1}B^{T}P$. Are any of the eigenvalues positive? Consider differential equation (21.11) governing the optimal state $\\tilde{z}$. Using this value of $P$, will we necessarily have $\\tilde{z} \\rightarrow 0$?"
   ]
  },
  {
   "cell_type": "code",
   "execution_count": 42,
   "metadata": {},
   "outputs": [
    {
     "data": {
      "text/plain": [
       "array([[  13.34929839,   88.60188369,   -8.52977855,  -63.47799003],\n",
       "       [  88.60188369, 1181.90259733,  -50.38856895, -843.90508757],\n",
       "       [  -8.52977855,  -50.38856895, -863.87628017,   35.87856103],\n",
       "       [ -63.47799003, -843.90508757,   35.87856103,  894.05576091]])"
      ]
     },
     "execution_count": 42,
     "metadata": {},
     "output_type": "execute_result"
    }
   ],
   "source": [
    "M, m = 23., 5.\n",
    "l = 4.\n",
    "q1, q2, q3, q4 = 1., 1., 1., 1.\n",
    "r = 10.\n",
    "A, B, Q, R = linearized_init(M, m, l, q1, q2, q3, q4, r)\n",
    "P = find_P(A, B, Q, R)\n",
    "P"
   ]
  },
  {
   "cell_type": "code",
   "execution_count": 43,
   "metadata": {},
   "outputs": [
    {
     "data": {
      "text/plain": [
       "True"
      ]
     },
     "execution_count": 43,
     "metadata": {},
     "output_type": "execute_result"
    }
   ],
   "source": [
    "r = R[0]\n",
    "out = P@A + A.T@P + Q - (1/r)*P@np.outer(B,B)@P\n",
    "np.allclose(out, np.zeros((4,4)))"
   ]
  },
  {
   "cell_type": "code",
   "execution_count": 47,
   "metadata": {},
   "outputs": [
    {
     "data": {
      "text/plain": [
       "array([-1.72875212+0.j        , -0.07538846+0.07490226j,\n",
       "       -0.07538846-0.07490226j,  1.72530814+0.j        ])"
      ]
     },
     "execution_count": 47,
     "metadata": {},
     "output_type": "execute_result"
    }
   ],
   "source": [
    "H = A - (1/r)*np.outer(B,B)@P\n",
    "np.linalg.eigvals(H)"
   ]
  },
  {
   "cell_type": "markdown",
   "metadata": {},
   "source": [
    "$A - BR^{-1}B^TP$ has a positive eigenvalue, which implies that as $t \\rightarrow \\infty$, $\\tilde{z}$ will drive off towards the eigenvector associated with the positive engenvalue."
   ]
  },
  {
   "cell_type": "code",
   "execution_count": 54,
   "metadata": {},
   "outputs": [],
   "source": [
    "P = solve_continuous_are(A, B.reshape((4,1)), Q, R)"
   ]
  },
  {
   "cell_type": "code",
   "execution_count": 62,
   "metadata": {},
   "outputs": [
    {
     "data": {
      "text/plain": [
       "True"
      ]
     },
     "execution_count": 62,
     "metadata": {},
     "output_type": "execute_result"
    }
   ],
   "source": [
    "r = R[0]\n",
    "out = P@A + A.T@P + Q - (1/r)*P@np.outer(B,B)@P\n",
    "np.allclose(out, np.zeros((4,4)), atol=1e-5)"
   ]
  },
  {
   "cell_type": "code",
   "execution_count": 64,
   "metadata": {},
   "outputs": [
    {
     "data": {
      "text/plain": [
       "array([-1.72875212+0.j        , -1.72530814+0.j        ,\n",
       "       -0.07538846+0.07490226j, -0.07538846-0.07490226j])"
      ]
     },
     "execution_count": 64,
     "metadata": {},
     "output_type": "execute_result"
    }
   ],
   "source": [
    "H = A - (1/r)*np.outer(B,B)@P\n",
    "np.linalg.eigvals(H)"
   ]
  },
  {
   "cell_type": "markdown",
   "metadata": {},
   "source": [
    "Using Scipy's solve_continuous_are, we find that this P doesn't contain any positive eigenvalues, which implies that $\\tilde{z} \\rightarrow 0$ as $t \\rightarrow \\infty$"
   ]
  },
  {
   "cell_type": "markdown",
   "metadata": {},
   "source": [
    "## Problem 3.\n",
    "Write the following function that implements the LQR solution described earlier.\n",
    "For the IVP solver, you can use your own or you may use the function odeint from scipy.\n",
    "integrate."
   ]
  },
  {
   "cell_type": "code",
   "execution_count": 90,
   "metadata": {},
   "outputs": [],
   "source": [
    "def rickshaw(tv, X0, A, B, Q, R, P):\n",
    "    '''\n",
    "    Parameters:\n",
    "    ----------\n",
    "    tv : ndarray of time values, with shape (n+1,)\n",
    "    X0 : Initial conditions on state variables\n",
    "    A, Q: ndarrays of shape (4,4)\n",
    "    B : ndarray of shape (4,1)\n",
    "    R : ndarray of shape (1,1)\n",
    "    P : ndarray of shape (4,4)\n",
    "    Returns\n",
    "    -------\n",
    "    Z : ndarray of shape (n+1,4), the state vector at each time\n",
    "    U : ndarray of shape (n+1,), the control values\n",
    "    '''\n",
    "    r = R[0]\n",
    "    H = A - (1/r)*np.outer(B,B)@P\n",
    "    def _Z(y, t):\n",
    "        dydt = H@y\n",
    "        return dydt\n",
    "    Z = odeint(_Z, X0, tv)\n",
    "    U = -(1/r)*(B@P)@Z.T\n",
    "    return Z, U\n",
    "    "
   ]
  },
  {
   "cell_type": "markdown",
   "metadata": {},
   "source": [
    "## Problem 4. \n",
    "Test the function made in Problem (3) with the following inputs:\n",
    "\n",
    "$M, m = 23, 5$\n",
    "\n",
    "$l = 4$\n",
    "\n",
    "$q_1 = q_2 = q_3 = q_4 = 1$\n",
    "\n",
    "$r = 10$\n",
    "\n",
    "$t_f = None$\n",
    "\n",
    "$X_0 = [-1, -1, .1, -.2]$\n",
    "\n",
    "Find the matrix P using the scipy.optimize.root method with $t_f=6$ as well as the solve_continuous_are method with $t_f=60$. Plot the solutions $\\tilde{z}$ and $\\tilde{u}$. Compare your results as shown in Figure 21.3."
   ]
  },
  {
   "cell_type": "code",
   "execution_count": 91,
   "metadata": {},
   "outputs": [],
   "source": [
    "M, m = 23., 5.\n",
    "l = 4.\n",
    "q1, q2, q3, q4 = 1., 1., 1., 1.\n",
    "r = 10.\n",
    "tf = 6\n",
    "X0 = np.array([-1, -1, .1, -.2])\n",
    "A, B, Q, R = linearized_init(M, m, l, q1, q2, q3, q4, r)\n",
    "P = find_P(A, B, Q, R)\n",
    "tv = np.linspace(0, tf, 101)\n",
    "Z, U = rickshaw(tv, X0, A, B, Q, R, P)"
   ]
  },
  {
   "cell_type": "code",
   "execution_count": 111,
   "metadata": {},
   "outputs": [
    {
     "data": {
      "image/png": "[encoded data removed]",
      "text/plain": [
       "<Figure size 432x288 with 1 Axes>"
      ]
     },
     "metadata": {
      "needs_background": "light"
     },
     "output_type": "display_data"
    }
   ],
   "source": [
    "[x, x_p, t, t_p, u] = plt.plot(tv, np.column_stack([Z, U]))\n",
    "plt.legend([x, x_p, t, t_p, u], ['x', 'x_prime', 'theta', 'theta_prime', 'u'])\n",
    "plt.title(\"P is found using scipy.optimize.root\")\n",
    "plt.show()"
   ]
  },
  {
   "cell_type": "code",
   "execution_count": 112,
   "metadata": {},
   "outputs": [],
   "source": [
    "M, m = 23., 5.\n",
    "l = 4.\n",
    "q1, q2, q3, q4 = 1., 1., 1., 1.\n",
    "r = 10.\n",
    "tf = 60\n",
    "X0 = np.array([-1, -1, .1, -.2])\n",
    "A, B, Q, R = linearized_init(M, m, l, q1, q2, q3, q4, r)\n",
    "P = solve_continuous_are(A, B.reshape((4,1)), Q, R)\n",
    "tv = np.linspace(0, tf, 101)\n",
    "Z, U = rickshaw(tv, X0, A, B, Q, R, P)"
   ]
  },
  {
   "cell_type": "code",
   "execution_count": 114,
   "metadata": {},
   "outputs": [
    {
     "data": {
      "image/png": "[encoded data removed]",
      "text/plain": [
       "<Figure size 432x288 with 1 Axes>"
      ]
     },
     "metadata": {
      "needs_background": "light"
     },
     "output_type": "display_data"
    }
   ],
   "source": [
    "[x, x_p, t, t_p, u] = plt.plot(tv, np.column_stack([Z, U]))\n",
    "plt.legend([x, x_p, t, t_p, u], ['x', 'x_prime', 'theta', 'theta_prime', 'u'])\n",
    "plt.title(\"P is found using solve_continuous_are\")\n",
    "plt.show()"
   ]
  },
  {
   "cell_type": "code",
   "execution_count": null,
   "metadata": {},
   "outputs": [],
   "source": []
  }
 ],
 "metadata": {
  "kernelspec": {
   "display_name": "Python 3",
   "language": "python",
   "name": "python3"
  },
  "language_info": {
   "codemirror_mode": {
    "name": "ipython",
    "version": 3
   },
   "file_extension": ".py",
   "mimetype": "text/x-python",
   "name": "python",
   "nbconvert_exporter": "python",
   "pygments_lexer": "ipython3",
   "version": "3.6.8"
  }
 },
 "nbformat": 4,
 "nbformat_minor": 2
}
