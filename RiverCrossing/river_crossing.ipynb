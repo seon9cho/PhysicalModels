{
 "cells": [
  {
   "cell_type": "code",
   "execution_count": 2,
   "metadata": {},
   "outputs": [],
   "source": [
    "import numpy as np\n",
    "from autograd import elementwise_grad\n",
    "from autograd import numpy as anp\n",
    "from scipy.integrate import quad\n",
    "import matplotlib.pyplot as plt\n",
    "from scipy.optimize import root\n",
    "from scipy.optimize import fsolve\n",
    "from scipy.interpolate import barycentric_interpolate"
   ]
  },
  {
   "cell_type": "markdown",
   "metadata": {},
   "source": [
    "# River Crossing\n",
    "\n",
    "## Problem 1\n",
    "Assume that the current is given by $c(x) = -\\frac{7}{10}(x^2-1)$. (This function assumes, for example, that the current is faster near the center of the river.)\n",
    "Write a Python function that accepts as arguments a function $y$, its derivative $y'$, and an $x$-value, and returns $L(x,y(x),y'(x))$ (where $T[y] = \\int_{-1}^1 L(x,y(x),y'(x))$). Use that function to define a second function that numerically computes $T[y]$ for a given path $y(x)$. \n",
    "(You can use `scipy.integrate.quad` to numerically evaluate the integral)."
   ]
  },
  {
   "cell_type": "code",
   "execution_count": 6,
   "metadata": {},
   "outputs": [],
   "source": [
    "def L(x,y,dy):\n",
    "    \"\"\"Evaluates L(x,y,y') for the river crossing time functional.\"\"\"\n",
    "    c = -7/10 * (x**2 - 1)\n",
    "    a = 1/np.sqrt(1 - c**2)\n",
    "    return a*np.sqrt(1 + (a*dy(x))**2) - (a**2*c*dy(x))\n",
    "\n",
    "def T(y):\n",
    "    \"\"\"Computes T[y] for the river crossing time functional\"\"\"\n",
    "    dy = elementwise_grad(y)\n",
    "    return quad(L, -1, 1, args=(y, dy))[0]"
   ]
  },
  {
   "cell_type": "markdown",
   "metadata": {},
   "source": [
    "## Problem 2\n",
    "\n",
    "Let $y(x)$ be the straight-line path between $A = (-1,0)$ and $B=(1,5)$. Numerically calculate $T[y]$ to get an upper bound on the minimum time required to cross from $A$ to $B$. Using (18.2), find a lower bound on the minimum time required to cross. (Hint: consider the minimum value of $sec(\\theta)$)"
   ]
  },
  {
   "cell_type": "code",
   "execution_count": 7,
   "metadata": {},
   "outputs": [
    {
     "data": {
      "text/plain": [
       "3.8770820491384126"
      ]
     },
     "execution_count": 7,
     "metadata": {},
     "output_type": "execute_result"
    }
   ],
   "source": [
    "y = lambda x: (5/2)*x + (5/2)\n",
    "T(y)"
   ]
  },
  {
   "cell_type": "markdown",
   "metadata": {},
   "source": [
    "## Problem 3\n",
    "\n",
    "Numerically solve the Euler-Lagrange equation for the river crossing problem, using $c(x) = -\\frac{7}{10}(x^2-1)$ and $\\alpha = (1-c^2)^{-1/2}$, and $y(-1) = 0$, $y(1) = 5$. \n",
    "\n",
    "Hint: Since this boundary value problem is defined over the doimain $[-1,1]$, it is easy to solve using the pseudospectral method. Begin by replacing each $\\frac{d}{dx}$ with the pseudospectral differentiation matrix $D$. Then impose the boundary conditions and solve."
   ]
  },
  {
   "cell_type": "code",
   "execution_count": 8,
   "metadata": {},
   "outputs": [],
   "source": [
    "def cheb(N):\n",
    "    \"\"\"Returns the (N+1)x(N+1) cardinal function differentiation matrix D \n",
    "    and the N+1 Chebyshev nodes.\n",
    "    \"\"\"\n",
    "    x =  np.cos((np.pi/N)*np.linspace(0,N,N+1))\n",
    "    x.shape = (N+1,1)\n",
    "    lin = np.linspace(0,N,N+1)\n",
    "    lin.shape = (N+1,1)\n",
    "    \n",
    "    c = np.ones((N+1,1))\n",
    "    c[0], c[-1] = 2., 2.\n",
    "    c = c*(-1.)**lin\n",
    "    X = x*np.ones(N+1) # broadcast along 2nd dimension (columns)\n",
    "    \n",
    "    dX = X - X.T\n",
    "    \n",
    "    D = (c*(1./c).T)/(dX + np.eye(N+1))\n",
    "    D  = D - np.diag(np.sum(D.T,axis=0))\n",
    "    x.shape = (N+1,)\n",
    "    # Here we return the differentiation matrix and the Chebyshev points,\n",
    "    # numbered from x_0 = 1 to x_N = -1\n",
    "    return D, x"
   ]
  },
  {
   "cell_type": "code",
   "execution_count": 10,
   "metadata": {},
   "outputs": [
    {
     "data": {
      "image/png": "[encoded data removed]",
      "text/plain": [
       "<Figure size 432x288 with 1 Axes>"
      ]
     },
     "metadata": {},
     "output_type": "display_data"
    }
   ],
   "source": [
    "N = 20\n",
    "D, x = cheb(N)\n",
    "domain = np.linspace(-1, 1, 100)\n",
    "c = -7/10 * (x**2 - 1)\n",
    "a = 1/np.sqrt(1 - c**2)\n",
    "def F(y):\n",
    "    bc1 = y[0] - 5\n",
    "    bc2 = y[-1]\n",
    "    LHS = D@(a**3 * D@y * 1/np.sqrt(1 + (a*D@y)**2) - a**2*c)\n",
    "    return np.hstack([bc1, LHS[1:-1], bc2])\n",
    "guess = y(x)\n",
    "sol = root(F, guess).x\n",
    "Y = barycentric_interpolate(x, sol, domain)\n",
    "plt.plot(domain, Y)\n",
    "plt.plot(domain, y(domain))\n",
    "plt.show()"
   ]
  },
  {
   "cell_type": "markdown",
   "metadata": {},
   "source": [
    "## Problem 4\n",
    "\n",
    "Plot the angle at which the boat should be pointed at each $x$-coordinate. (Hint: Use Equation 18.1; see Figure 18.3. Note that the angle the boat should be steered is \\emph{not} described by the tangent vector to the trajectory. You might consider using `scipy.optimize.root` to solve the nonlinear system.)"
   ]
  },
  {
   "cell_type": "code",
   "execution_count": 18,
   "metadata": {},
   "outputs": [
    {
     "data": {
      "text/plain": [
       "[<matplotlib.lines.Line2D at 0x12294db38>]"
      ]
     },
     "execution_count": 18,
     "metadata": {},
     "output_type": "execute_result"
    },
    {
     "data": {
      "image/png": "[encoded data removed]",
      "text/plain": [
       "<Figure size 432x288 with 1 Axes>"
      ]
     },
     "metadata": {},
     "output_type": "display_data"
    }
   ],
   "source": [
    "c = -7/10 * (domain**2 - 1)\n",
    "def F(theta):\n",
    "    return c/np.cos(theta) + np.tan(theta) - np.gradient(Y)\n",
    "theta = root(F, np.ones(len(domain))).x\n",
    "plt.plot(theta)"
   ]
  },
  {
   "cell_type": "code",
   "execution_count": 16,
   "metadata": {},
   "outputs": [
    {
     "data": {
      "text/plain": [
       "array([0.00337485, 0.00365609, 0.00420449, 0.00471966, 0.00519753,\n",
       "       0.00563998, 0.00604714, 0.00641687, 0.00674627, 0.0070332 ,\n",
       "       0.00727698, 0.00747838, 0.00763916, 0.00776158, 0.00784785,\n",
       "       0.0079    , 0.00791977, 0.00790885, 0.00786908, 0.00780269,\n",
       "       0.00771256, 0.00760227, 0.00747609, 0.00733887, 0.00719587,\n",
       "       0.00705254, 0.00691427, 0.00678629, 0.00667349, 0.00658043,\n",
       "       0.00651133, 0.0064702 , 0.0064609 , 0.00648738, 0.00655374,\n",
       "       0.00666442, 0.00682433, 0.00703889, 0.00731415, 0.00765684,\n",
       "       0.00807443, 0.00857524, 0.00916855, 0.00986473, 0.0106755 ,\n",
       "       0.01161405, 0.01269535, 0.01393627, 0.01535577, 0.01697492,\n",
       "       0.01881678, 0.02090616, 0.02326913, 0.02593227, 0.02892181,\n",
       "       0.03226246, 0.03597608, 0.04008027, 0.04458682, 0.04950029,\n",
       "       0.05481653, 0.0605216 , 0.06659077, 0.072988  , 0.07966579,\n",
       "       0.08656543, 0.09361779, 0.10074442, 0.10785914, 0.11486986,\n",
       "       0.12168068, 0.12819405, 0.13431295, 0.13994301, 0.1449944 ,\n",
       "       0.14938347, 0.15303415, 0.15587904, 0.15786016, 0.15892958,\n",
       "       0.15904981, 0.1581941 , 0.1563467 , 0.15350295, 0.14966945,\n",
       "       0.14486386, 0.13911462, 0.13246009, 0.12494725, 0.11662988,\n",
       "       0.10756631, 0.09781703, 0.08744285, 0.07650427, 0.06506295,\n",
       "       0.05318576, 0.04095095, 0.02845367, 0.01580411, 0.00945572])"
      ]
     },
     "execution_count": 16,
     "metadata": {},
     "output_type": "execute_result"
    }
   ],
   "source": []
  },
  {
   "cell_type": "code",
   "execution_count": null,
   "metadata": {},
   "outputs": [],
   "source": []
  }
 ],
 "metadata": {
  "kernelspec": {
   "display_name": "Python 3",
   "language": "python",
   "name": "python3"
  },
  "language_info": {
   "codemirror_mode": {
    "name": "ipython",
    "version": 3
   },
   "file_extension": ".py",
   "mimetype": "text/x-python",
   "name": "python",
   "nbconvert_exporter": "python",
   "pygments_lexer": "ipython3",
   "version": "3.6.8"
  }
 },
 "nbformat": 4,
 "nbformat_minor": 2
}
