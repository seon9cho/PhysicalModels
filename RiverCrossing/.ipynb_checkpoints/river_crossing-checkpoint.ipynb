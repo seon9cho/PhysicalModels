{
 "cells": [
  {
   "cell_type": "markdown",
   "metadata": {},
   "source": [
    "# River Crossing\n",
    "\n",
    "## Problem 1\n",
    "Assume that the current is given by $c(x) = -\\frac{7}{10}(x^2-1)$. (This function assumes, for example, that the current is faster near the center of the river.)\n",
    "Write a Python function that accepts as arguments a function $y$, its derivative $y'$, and an $x$-value, and returns $L(x,y(x),y'(x))$ (where $T[y] = \\int_{-1}^1 L(x,y(x),y'(x))$). Use that function to define a second function that numerically computes $T[y]$ for a given path $y(x)$. \n",
    "(You can use `scipy.integrate.quad` to numerically evaluate the integral)."
   ]
  },
  {
   "cell_type": "code",
   "execution_count": null,
   "metadata": {},
   "outputs": [],
   "source": [
    "def L(x,y,dy):\n",
    "    \"\"\"Evaluates L(x,y,y') for the river crossing time functional.\"\"\"\n",
    "    pass\n",
    "\n",
    "def T(y):\n",
    "    \"\"\"Computes T[y] for the river crossing time functional\"\"\"\n",
    "    pass"
   ]
  },
  {
   "cell_type": "markdown",
   "metadata": {},
   "source": [
    "## Problem 2\n",
    "\n",
    "Let $y(x)$ be the straight-line path between $A = (-1,0)$ and $B=(1,5)$. Numerically calculate $T[y]$ to get an upper bound on the minimum time required to cross from $A$ to $B$. Using (18.2), find a lower bound on the minimum time required to cross. (Hint: consider the minimum value of $sec(\\theta)$)"
   ]
  },
  {
   "cell_type": "code",
   "execution_count": null,
   "metadata": {},
   "outputs": [],
   "source": []
  },
  {
   "cell_type": "markdown",
   "metadata": {},
   "source": [
    "## Problem 3\n",
    "\n",
    "Numerically solve the Euler-Lagrange equation for the river crossing problem, using $c(x) = -\\frac{7}{10}(x^2-1)$ and $\\alpha = (1-c^2)^{-1/2}$, and $y(-1) = 0$, $y(1) = 5$. \n",
    "\n",
    "Hint: Since this boundary value problem is defined over the doimain $[-1,1]$, it is easy to solve using the pseudospectral method. Begin by replacing each $\\frac{d}{dx}$ with the pseudospectral differentiation matrix $D$. Then impose the boundary conditions and solve."
   ]
  },
  {
   "cell_type": "code",
   "execution_count": null,
   "metadata": {},
   "outputs": [],
   "source": []
  },
  {
   "cell_type": "markdown",
   "metadata": {},
   "source": [
    "## Problem 4\n",
    "\n",
    "Plot the angle at which the boat should be pointed at each $x$-coordinate. (Hint: Use Equation 18.1; see Figure 18.3. Note that the angle the boat should be steered is \\emph{not} described by the tangent vector to the trajectory. You might consider using `scipy.optimize.root` to solve the nonlinear system.)"
   ]
  },
  {
   "cell_type": "code",
   "execution_count": null,
   "metadata": {},
   "outputs": [],
   "source": []
  }
 ],
 "metadata": {
  "kernelspec": {
   "display_name": "Python 3",
   "language": "python",
   "name": "python3"
  },
  "language_info": {
   "codemirror_mode": {
    "name": "ipython",
    "version": 3
   },
   "file_extension": ".py",
   "mimetype": "text/x-python",
   "name": "python",
   "nbconvert_exporter": "python",
   "pygments_lexer": "ipython3",
   "version": "3.6.8"
  }
 },
 "nbformat": 4,
 "nbformat_minor": 2
}
